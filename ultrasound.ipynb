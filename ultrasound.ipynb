{
  "nbformat": 4,
  "nbformat_minor": 0,
  "metadata": {
    "colab": {
      "provenance": [],
      "gpuType": "T4"
    },
    "kernelspec": {
      "name": "python3",
      "display_name": "Python 3"
    },
    "language_info": {
      "name": "python"
    },
    "accelerator": "GPU"
  },
  "cells": [
    {
      "cell_type": "code",
      "execution_count": null,
      "metadata": {
        "id": "j8Cj4ZiUDS11"
      },
      "outputs": [],
      "source": [
        "# Core\n",
        "import os\n",
        "import cv2\n",
        "import numpy as np\n",
        "from tqdm import tqdm\n",
        "import matplotlib.pyplot as plt\n",
        "import random\n",
        "\n",
        "# Preprocessing\n",
        "from sklearn.preprocessing import LabelEncoder\n",
        "from tensorflow.keras.applications.vgg16 import VGG16, preprocess_input\n",
        "from tensorflow.keras.models import Model\n",
        "\n",
        "# Classifier\n",
        "import xgboost as xgb\n",
        "from sklearn.metrics import classification_report, confusion_matrix, accuracy_score\n",
        "\n",
        "# File handling (for prediction from uploaded image)\n",
        "from PIL import Image\n"
      ]
    },
    {
      "cell_type": "code",
      "source": [
        "import kagglehub\n",
        "import os\n",
        "\n",
        "# Download dataset (returns a directory path)\n",
        "path = kagglehub.dataset_download(\"anaghachoudhari/pcos-detection-using-ultrasound-images\")\n",
        "print(\"Dataset downloaded to:\", path)\n",
        "\n",
        "# # List files in the dataset\n",
        "files = os.listdir(path)\n",
        "print(\"Files in dataset:\", files)\n",
        "\n",
        "# (Optional) Copy to /content/ for easier access\n",
        "!mkdir -p \"/content/\"\n",
        "!cp -r \"{path}\"/* \"/content/\"\n",
        "print(\"Files copied to /content/\")"
      ],
      "metadata": {
        "colab": {
          "base_uri": "https://localhost:8080/"
        },
        "id": "_DND1WlbFoKP",
        "outputId": "3fd00219-2a5b-48d8-dc8e-ce664618cbfd"
      },
      "execution_count": null,
      "outputs": [
        {
          "output_type": "stream",
          "name": "stdout",
          "text": [
            "Downloading from https://www.kaggle.com/api/v1/datasets/download/anaghachoudhari/pcos-detection-using-ultrasound-images?dataset_version_number=1...\n"
          ]
        },
        {
          "output_type": "stream",
          "name": "stderr",
          "text": [
            "100%|██████████| 126M/126M [00:00<00:00, 227MB/s]"
          ]
        },
        {
          "output_type": "stream",
          "name": "stdout",
          "text": [
            "Extracting files...\n"
          ]
        },
        {
          "output_type": "stream",
          "name": "stderr",
          "text": [
            "\n"
          ]
        },
        {
          "output_type": "stream",
          "name": "stdout",
          "text": [
            "Dataset downloaded to: /root/.cache/kagglehub/datasets/anaghachoudhari/pcos-detection-using-ultrasound-images/versions/1\n",
            "Files in dataset: ['data']\n",
            "Files copied to /content/\n"
          ]
        }
      ]
    },
    {
      "cell_type": "code",
      "source": [
        "# Set path to training directory\n",
        "train_dir = \"/content/data/train\"\n",
        "SIZE = 224\n",
        "\n",
        "X_train = []\n",
        "y_train = []\n",
        "\n",
        "# Load images and labels\n",
        "for label in ['infected', 'notinfected']:\n",
        "    folder = os.path.join(train_dir, label)\n",
        "    for file in tqdm(os.listdir(folder), desc=f\"Loading {label}\"):\n",
        "        img_path = os.path.join(folder, file)\n",
        "        img = cv2.imread(img_path)\n",
        "        if img is not None:\n",
        "            img = cv2.resize(img, (SIZE, SIZE))\n",
        "            X_train.append(img)\n",
        "            y_train.append(label)\n",
        "\n",
        "X_train = np.array(X_train)\n",
        "y_train = np.array(y_train)\n",
        "\n",
        "# Encode labels to 0 and 1\n",
        "le = LabelEncoder()\n",
        "y_train_enc = le.fit_transform(y_train)\n",
        "\n",
        "print(\"Train images shape:\", X_train.shape)\n",
        "print(\"Encoded labels:\", np.unique(y_train_enc, return_counts=True))\n"
      ],
      "metadata": {
        "colab": {
          "base_uri": "https://localhost:8080/"
        },
        "id": "zu3rWc6BFqj-",
        "outputId": "34d8b6c5-c04d-429c-9a88-aa065f0e7575"
      },
      "execution_count": null,
      "outputs": [
        {
          "output_type": "stream",
          "name": "stderr",
          "text": [
            "Loading infected: 100%|██████████| 781/781 [00:00<00:00, 878.46it/s]\n",
            "Loading notinfected: 100%|██████████| 1143/1143 [00:02<00:00, 422.38it/s]\n"
          ]
        },
        {
          "output_type": "stream",
          "name": "stdout",
          "text": [
            "Train images shape: (1924, 224, 224, 3)\n",
            "Encoded labels: (array([0, 1]), array([ 781, 1143]))\n"
          ]
        }
      ]
    },
    {
      "cell_type": "code",
      "source": [
        "from tensorflow.keras.applications import VGG16\n",
        "from tensorflow.keras.applications.vgg16 import preprocess_input\n",
        "from tensorflow.keras.models import Model\n",
        "\n",
        "# Load VGG16 without top layers\n",
        "base_model = VGG16(weights='imagenet', include_top=False, input_shape=(SIZE, SIZE, 3))\n",
        "model = Model(inputs=base_model.input, outputs=base_model.output)\n",
        "\n",
        "# Preprocess and extract features\n",
        "def extract_features(images, batch_size=16):\n",
        "    features = []\n",
        "    for i in tqdm(range(0, len(images), batch_size), desc=\"Extracting features\"):\n",
        "        batch = images[i:i+batch_size]\n",
        "        batch = preprocess_input(batch)\n",
        "        batch_features = model.predict(batch, verbose=0)\n",
        "        batch_features = batch_features.reshape(batch_features.shape[0], -1)  # Flatten\n",
        "        features.append(batch_features)\n",
        "    return np.vstack(features)\n",
        "\n",
        "# Extract training features\n",
        "X_train_features = extract_features(X_train)\n",
        "print(\"Extracted features shape:\", X_train_features.shape)\n"
      ],
      "metadata": {
        "colab": {
          "base_uri": "https://localhost:8080/"
        },
        "id": "TSgf7LbhLPiw",
        "outputId": "58c05498-4a70-4fbe-9af9-fe546dfc17cd"
      },
      "execution_count": null,
      "outputs": [
        {
          "output_type": "stream",
          "name": "stdout",
          "text": [
            "Downloading data from https://storage.googleapis.com/tensorflow/keras-applications/vgg16/vgg16_weights_tf_dim_ordering_tf_kernels_notop.h5\n",
            "\u001b[1m58889256/58889256\u001b[0m \u001b[32m━━━━━━━━━━━━━━━━━━━━\u001b[0m\u001b[37m\u001b[0m \u001b[1m0s\u001b[0m 0us/step\n"
          ]
        },
        {
          "output_type": "stream",
          "name": "stderr",
          "text": [
            "Extracting features: 100%|██████████| 121/121 [00:35<00:00,  3.37it/s]"
          ]
        },
        {
          "output_type": "stream",
          "name": "stdout",
          "text": [
            "Extracted features shape: (1924, 25088)\n"
          ]
        },
        {
          "output_type": "stream",
          "name": "stderr",
          "text": [
            "\n"
          ]
        }
      ]
    },
    {
      "cell_type": "code",
      "source": [
        "import xgboost as xgb\n",
        "\n",
        "# Initialize and train model\n",
        "xgb_model = xgb.XGBClassifier(use_label_encoder=False, eval_metric='logloss')\n",
        "xgb_model.fit(X_train_features, y_train_enc)\n",
        "\n",
        "print(\"✅ XGBoost training complete!\")\n",
        "\n"
      ],
      "metadata": {
        "colab": {
          "base_uri": "https://localhost:8080/"
        },
        "id": "7LBaTIafLuaV",
        "outputId": "d79b9bae-731f-493f-9558-13040aa67e9d"
      },
      "execution_count": null,
      "outputs": [
        {
          "output_type": "stream",
          "name": "stderr",
          "text": [
            "/usr/local/lib/python3.11/dist-packages/xgboost/core.py:158: UserWarning: [18:33:00] WARNING: /workspace/src/learner.cc:740: \n",
            "Parameters: { \"use_label_encoder\" } are not used.\n",
            "\n",
            "  warnings.warn(smsg, UserWarning)\n"
          ]
        },
        {
          "output_type": "stream",
          "name": "stdout",
          "text": [
            "✅ XGBoost training complete!\n"
          ]
        }
      ]
    },
    {
      "cell_type": "code",
      "source": [
        "# Load test images\n",
        "test_dir = \"/content/data/test\"\n",
        "X_test = []\n",
        "y_test = []\n",
        "\n",
        "for label in ['infected', 'notinfected']:\n",
        "    folder = os.path.join(test_dir, label)\n",
        "    for file in tqdm(os.listdir(folder), desc=f\"Loading {label}\"):\n",
        "        img_path = os.path.join(folder, file)\n",
        "        img = cv2.imread(img_path)\n",
        "        if img is not None:\n",
        "            img = cv2.resize(img, (SIZE, SIZE))\n",
        "            X_test.append(img)\n",
        "            y_test.append(label)\n",
        "\n",
        "X_test = np.array(X_test)\n",
        "y_test = np.array(y_test)\n",
        "y_test_enc = le.transform(y_test)  # Use same label encoder as train\n",
        "\n",
        "# Extract VGG16 features\n",
        "X_test_features = extract_features(X_test)\n",
        "\n",
        "# Predict with XGBoost\n",
        "y_pred = xgb_model.predict(X_test_features)\n",
        "\n",
        "# Evaluate\n",
        "from sklearn.metrics import classification_report, confusion_matrix, accuracy_score\n",
        "\n",
        "print(\"\\nAccuracy:\", accuracy_score(y_test_enc, y_pred))\n",
        "print(\"\\nClassification Report:\\n\", classification_report(y_test_enc, y_pred, target_names=le.classes_))\n",
        "print(\"\\nConfusion Matrix:\\n\", confusion_matrix(y_test_enc, y_pred))\n"
      ],
      "metadata": {
        "colab": {
          "base_uri": "https://localhost:8080/"
        },
        "id": "_cd2kkugMIb_",
        "outputId": "fdcd86ce-7375-478d-a63f-6c72fc23f391"
      },
      "execution_count": null,
      "outputs": [
        {
          "output_type": "stream",
          "name": "stderr",
          "text": [
            "Loading infected: 100%|██████████| 787/787 [00:00<00:00, 1046.74it/s]\n",
            "Loading notinfected: 100%|██████████| 1145/1145 [00:02<00:00, 466.40it/s]\n",
            "Extracting features: 100%|██████████| 121/121 [00:26<00:00,  4.62it/s]\n"
          ]
        },
        {
          "output_type": "stream",
          "name": "stdout",
          "text": [
            "\n",
            "Accuracy: 1.0\n",
            "\n",
            "Classification Report:\n",
            "               precision    recall  f1-score   support\n",
            "\n",
            "    infected       1.00      1.00      1.00       781\n",
            " notinfected       1.00      1.00      1.00      1141\n",
            "\n",
            "    accuracy                           1.00      1922\n",
            "   macro avg       1.00      1.00      1.00      1922\n",
            "weighted avg       1.00      1.00      1.00      1922\n",
            "\n",
            "\n",
            "Confusion Matrix:\n",
            " [[ 781    0]\n",
            " [   0 1141]]\n"
          ]
        }
      ]
    },
    {
      "cell_type": "code",
      "source": [
        "def predict_image(image_path):\n",
        "    # Load and preprocess\n",
        "    img = cv2.imread(image_path)\n",
        "    img = cv2.resize(img, (SIZE, SIZE))\n",
        "    img = np.expand_dims(img, axis=0)\n",
        "    img = preprocess_input(img)\n",
        "\n",
        "    # Feature extraction\n",
        "    features = model.predict(img, verbose=0)\n",
        "    features = features.reshape(1, -1)\n",
        "\n",
        "    # Prediction\n",
        "    pred = xgb_model.predict(features)[0]\n",
        "    prob = xgb_model.predict_proba(features)[0][pred]\n",
        "\n",
        "    label = le.inverse_transform([pred])[0]\n",
        "    print(f\"\\nPrediction: {'PCOS Detected' if label == 'infected' else 'No PCOS Detected'}\")\n",
        "    print(f\"Confidence: {prob:.2f}\")\n",
        "\n",
        "    return label, prob\n",
        "\n",
        "predict_image(\"/content/sample.jpg\")  # Replace with your image path\n"
      ],
      "metadata": {
        "colab": {
          "base_uri": "https://localhost:8080/"
        },
        "id": "A7c_YTzCMmKU",
        "outputId": "abd7396c-b08e-4f88-b4d9-eaf6e5311bdc"
      },
      "execution_count": null,
      "outputs": [
        {
          "output_type": "stream",
          "name": "stdout",
          "text": [
            "\n",
            "Prediction: PCOS Detected\n",
            "Confidence: 1.00\n"
          ]
        },
        {
          "output_type": "execute_result",
          "data": {
            "text/plain": [
              "(np.str_('infected'), np.float32(0.999446))"
            ]
          },
          "metadata": {},
          "execution_count": 9
        }
      ]
    },
    {
      "cell_type": "code",
      "source": [
        "import pickle\n",
        "\n",
        "# Save XGBoost model\n",
        "with open(\"pcos_xgb_model.pkl\", \"wb\") as f:\n",
        "    pickle.dump(xgb_model, f)\n",
        "\n",
        "# Save LabelEncoder\n",
        "with open(\"pcos_label_encoder.pkl\", \"wb\") as f:\n",
        "    pickle.dump(le, f)\n",
        "\n",
        "print(\"✅ Model and label encoder saved successfully.\")\n"
      ],
      "metadata": {
        "colab": {
          "base_uri": "https://localhost:8080/"
        },
        "id": "3xze5mfYMrU7",
        "outputId": "70618a9a-9218-48e7-d1d4-cd67fe0014e6"
      },
      "execution_count": null,
      "outputs": [
        {
          "output_type": "stream",
          "name": "stdout",
          "text": [
            "✅ Model and label encoder saved successfully.\n"
          ]
        }
      ]
    },
    {
      "cell_type": "code",
      "source": [
        "print(le.classes_)  # This shows ['infected', 'notinfected'] or vice versa\n"
      ],
      "metadata": {
        "id": "KGz_pOKCRegb",
        "outputId": "9ac9196d-6a89-440b-fa55-2af76541d7e7",
        "colab": {
          "base_uri": "https://localhost:8080/"
        }
      },
      "execution_count": null,
      "outputs": [
        {
          "output_type": "stream",
          "name": "stdout",
          "text": [
            "['infected' 'notinfected']\n"
          ]
        }
      ]
    }
  ]
}